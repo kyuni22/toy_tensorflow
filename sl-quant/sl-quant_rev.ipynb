{
 "cells": [
  {
   "cell_type": "code",
   "execution_count": 1,
   "metadata": {
    "collapsed": true
   },
   "outputs": [],
   "source": [
    "%matplotlib inline"
   ]
  },
  {
   "cell_type": "code",
   "execution_count": 2,
   "metadata": {
    "collapsed": true
   },
   "outputs": [],
   "source": [
    "import numpy as np\n",
    "np.random.seed(1335)  # for reproducibility\n",
    "np.set_printoptions(precision=5, suppress=True, linewidth=150)"
   ]
  },
  {
   "cell_type": "code",
   "execution_count": 3,
   "metadata": {
    "collapsed": true
   },
   "outputs": [],
   "source": [
    "import pandas as pd\n",
    "from matplotlib import pyplot as plt"
   ]
  },
  {
   "cell_type": "markdown",
   "metadata": {},
   "source": [
    "## Straight line"
   ]
  },
  {
   "cell_type": "code",
   "execution_count": 121,
   "metadata": {
    "collapsed": true
   },
   "outputs": [],
   "source": [
    "#Load data\n",
    "def load_line_data():\n",
    "    price = pd.DataFrame(np.arange(1,21), index=pd.date_range('2016-01-01', periods=20, freq='D'), columns=['price']) #linearly increasing prices\n",
    "    price.loc[:,'reward'] = price.diff().values * 1.0\n",
    "    price.loc[:, 'action'] = 0\n",
    "    return price"
   ]
  },
  {
   "cell_type": "code",
   "execution_count": 5,
   "metadata": {
    "collapsed": true
   },
   "outputs": [],
   "source": [
    "def get_state(xdata, time_step):\n",
    "    return xdata.iloc[time_step,[0,1]].fillna(0).values"
   ]
  },
  {
   "cell_type": "code",
   "execution_count": 66,
   "metadata": {
    "collapsed": true
   },
   "outputs": [],
   "source": [
    "def sig_to_action(action):\n",
    "    if action == 0:\n",
    "        return 10000\n",
    "    elif action == 1:\n",
    "        return 0\n",
    "    elif action == 2:\n",
    "        return -10000"
   ]
  },
  {
   "cell_type": "code",
   "execution_count": 7,
   "metadata": {
    "collapsed": true
   },
   "outputs": [],
   "source": [
    "def get_reward(xdata, time_step):\n",
    "    reward = xdata.iloc[time_step-1, 2] * xdata.iloc[time_step, 1]\n",
    "    return reward"
   ]
  },
  {
   "cell_type": "markdown",
   "metadata": {},
   "source": [
    "### Run game"
   ]
  },
  {
   "cell_type": "code",
   "execution_count": 8,
   "metadata": {
    "collapsed": false
   },
   "outputs": [
    {
     "data": {
      "text/html": [
       "<div>\n",
       "<table border=\"1\" class=\"dataframe\">\n",
       "  <thead>\n",
       "    <tr style=\"text-align: right;\">\n",
       "      <th></th>\n",
       "      <th>price</th>\n",
       "      <th>reward</th>\n",
       "      <th>action</th>\n",
       "    </tr>\n",
       "  </thead>\n",
       "  <tbody>\n",
       "    <tr>\n",
       "      <th>2016-01-16</th>\n",
       "      <td>16</td>\n",
       "      <td>1.0</td>\n",
       "      <td>0</td>\n",
       "    </tr>\n",
       "    <tr>\n",
       "      <th>2016-01-17</th>\n",
       "      <td>17</td>\n",
       "      <td>1.0</td>\n",
       "      <td>0</td>\n",
       "    </tr>\n",
       "    <tr>\n",
       "      <th>2016-01-18</th>\n",
       "      <td>18</td>\n",
       "      <td>1.0</td>\n",
       "      <td>0</td>\n",
       "    </tr>\n",
       "    <tr>\n",
       "      <th>2016-01-19</th>\n",
       "      <td>19</td>\n",
       "      <td>1.0</td>\n",
       "      <td>0</td>\n",
       "    </tr>\n",
       "    <tr>\n",
       "      <th>2016-01-20</th>\n",
       "      <td>20</td>\n",
       "      <td>1.0</td>\n",
       "      <td>0</td>\n",
       "    </tr>\n",
       "  </tbody>\n",
       "</table>\n",
       "</div>"
      ],
      "text/plain": [
       "            price  reward  action\n",
       "2016-01-16     16     1.0       0\n",
       "2016-01-17     17     1.0       0\n",
       "2016-01-18     18     1.0       0\n",
       "2016-01-19     19     1.0       0\n",
       "2016-01-20     20     1.0       0"
      ]
     },
     "execution_count": 8,
     "metadata": {},
     "output_type": "execute_result"
    }
   ],
   "source": [
    "price = load_line_data()\n",
    "time_step = 0\n",
    "state = get_state(price, time_step)\n",
    "price.tail()"
   ]
  },
  {
   "cell_type": "code",
   "execution_count": 9,
   "metadata": {
    "collapsed": false
   },
   "outputs": [],
   "source": [
    "price.iloc[time_step, 2] = sig_to_action(0)\n",
    "time_step += 1"
   ]
  },
  {
   "cell_type": "code",
   "execution_count": 10,
   "metadata": {
    "collapsed": true
   },
   "outputs": [],
   "source": [
    "reward = get_reward(price, time_step)"
   ]
  },
  {
   "cell_type": "code",
   "execution_count": 11,
   "metadata": {
    "collapsed": false
   },
   "outputs": [
    {
     "data": {
      "text/plain": [
       "100.0"
      ]
     },
     "execution_count": 11,
     "metadata": {},
     "output_type": "execute_result"
    }
   ],
   "source": [
    "reward"
   ]
  },
  {
   "cell_type": "code",
   "execution_count": 12,
   "metadata": {
    "collapsed": false
   },
   "outputs": [],
   "source": [
    "price.iloc[time_step, 2] = sig_to_action(2)\n",
    "time_step += 1"
   ]
  },
  {
   "cell_type": "code",
   "execution_count": 13,
   "metadata": {
    "collapsed": false
   },
   "outputs": [],
   "source": [
    "reward = get_reward(price, time_step)"
   ]
  },
  {
   "cell_type": "code",
   "execution_count": 14,
   "metadata": {
    "collapsed": false
   },
   "outputs": [
    {
     "data": {
      "text/plain": [
       "-100.0"
      ]
     },
     "execution_count": 14,
     "metadata": {},
     "output_type": "execute_result"
    }
   ],
   "source": [
    "reward"
   ]
  },
  {
   "cell_type": "code",
   "execution_count": 15,
   "metadata": {
    "collapsed": true
   },
   "outputs": [],
   "source": [
    "long_sig = price[price.action > 0]\n",
    "short_sig = price[price.action < 0]"
   ]
  },
  {
   "cell_type": "code",
   "execution_count": 16,
   "metadata": {
    "collapsed": false
   },
   "outputs": [
    {
     "data": {
      "image/png": "[encoded data removed]",
      "text/plain": [
       "<matplotlib.figure.Figure at 0x7f5b31012ad0>"
      ]
     },
     "metadata": {},
     "output_type": "display_data"
    }
   ],
   "source": [
    "fig, ax1 = plt.subplots()\n",
    "ax1.plot(price.index, price.price, 'b-')\n",
    "ax1.plot(long_sig.index, long_sig.price, 'g^')\n",
    "ax1.plot(short_sig.index, short_sig.price, 'rv')\n",
    "fig.autofmt_xdate()"
   ]
  },
  {
   "cell_type": "markdown",
   "metadata": {},
   "source": [
    "### Setting NN"
   ]
  },
  {
   "cell_type": "code",
   "execution_count": 116,
   "metadata": {
    "collapsed": false
   },
   "outputs": [],
   "source": [
    "from keras.models import Sequential\n",
    "from keras.layers.core import Dense, Dropout, Activation\n",
    "from keras.optimizers import RMSprop\n",
    "\n",
    "model = Sequential()\n",
    "model.add(Dense(4, init='lecun_uniform', input_shape=(2,)))\n",
    "model.add(Activation('relu'))\n",
    "#model.add(Dropout(0.2)) I'm not using dropout in this example\n",
    "\n",
    "model.add(Dense(4, init='lecun_uniform'))\n",
    "model.add(Activation('relu'))\n",
    "#model.add(Dropout(0.2))\n",
    "\n",
    "model.add(Dense(3, init='lecun_uniform'))\n",
    "model.add(Activation('linear')) #linear output so we can have range of real-valued outputs\n",
    "\n",
    "rms = RMSprop()\n",
    "model.compile(loss='mse', optimizer=rms)"
   ]
  },
  {
   "cell_type": "markdown",
   "metadata": {},
   "source": [
    "### Test Training"
   ]
  },
  {
   "cell_type": "code",
   "execution_count": 18,
   "metadata": {
    "collapsed": true
   },
   "outputs": [],
   "source": [
    "import random, timeit"
   ]
  },
  {
   "cell_type": "code",
   "execution_count": 221,
   "metadata": {
    "collapsed": true
   },
   "outputs": [],
   "source": [
    "epochs = 10\n",
    "gamma = 0.9 #a high gamma makes a long term reward more valuable\n",
    "epsilon = 1.0"
   ]
  },
  {
   "cell_type": "code",
   "execution_count": 222,
   "metadata": {
    "collapsed": false
   },
   "outputs": [
    {
     "name": "stdout",
     "output_type": "stream",
     "text": [
      "Epoch 1/1\n",
      "1/1 [==============================] - 0s - loss: 3220.8337\n"
     ]
    }
   ],
   "source": [
    "price = load_line_data()\n",
    "time_step = 0\n",
    "state = get_state(price, time_step)\n",
    "terminal_step = len(price)\n",
    "\n",
    "qval = model.predict(state.reshape(1,2), batch_size=1)\n",
    "\n",
    "if (random.random() < epsilon): #choose random action\n",
    "    action = np.random.randint(0,3) # 3 different action\n",
    "else: #choose best action from Q(s,a) values\n",
    "    action = (np.argmax(qval))\n",
    "    \n",
    "price.iloc[time_step, 2] = sig_to_action(action)\n",
    "time_step += 1\n",
    "\n",
    "reward = get_reward(price, time_step)\n",
    "\n",
    "new_state = get_state(price, time_step)\n",
    "\n",
    "newQ = model.predict(new_state.reshape(1,2), batch_size=1)\n",
    "maxQ = np.max(newQ)\n",
    "\n",
    "y = np.zeros((1,3))\n",
    "y[:] = qval[:]\n",
    "\n",
    "if time_step < terminal_step: #non-terminal state\n",
    "    update = (reward + (gamma * maxQ))\n",
    "else: #terminal state\n",
    "    update = reward\n",
    "    status = 0\n",
    "\n",
    "y[0][action] = update\n",
    "model.fit(state.reshape(1,2), y, batch_size=1, nb_epoch=1, verbose=1)\n",
    "\n",
    "state = new_state"
   ]
  },
  {
   "cell_type": "code",
   "execution_count": 124,
   "metadata": {
    "collapsed": true
   },
   "outputs": [],
   "source": [
    "def testAlgo(price, epochs):\n",
    "    status = 1\n",
    "    time_step = 0\n",
    "    terminal_step = len(price) - 1\n",
    "    \n",
    "    #while game still in progress\n",
    "    while(status == 1):\n",
    "        state = get_state(price, time_step)        \n",
    "        qval = model.predict(state.reshape(1,2), batch_size=1)\n",
    "        action = (np.argmax(qval)) #take action with highest Q-value\n",
    "\n",
    "        price.iloc[time_step, 2] = sig_to_action(action)\n",
    "        time_step += 1\n",
    "\n",
    "        if time_step > terminal_step:\n",
    "            status = 0        \n",
    "    \n",
    "    long_sig = price[price.action > 0]\n",
    "    short_sig = price[price.action < 0]\n",
    "    fig, ax1 = plt.subplots()\n",
    "    ax1.plot(price.index, price.price, 'b-')\n",
    "    ax1.plot(long_sig.index, long_sig.price, 'g^')\n",
    "    ax1.plot(short_sig.index, short_sig.price, 'rv')\n",
    "    fig.autofmt_xdate()\n",
    "    ax1.set_title(\"Test Algo after {0} epochs\".format(epochs))"
   ]
  },
  {
   "cell_type": "markdown",
   "metadata": {},
   "source": [
    "### Training!"
   ]
  },
  {
   "cell_type": "code",
   "execution_count": 122,
   "metadata": {
    "collapsed": false
   },
   "outputs": [],
   "source": [
    "epochs = 100\n",
    "gamma = 0.9 #a high gamma makes a long term reward more valuable\n",
    "epsilon = 0.5"
   ]
  },
  {
   "cell_type": "code",
   "execution_count": 123,
   "metadata": {
    "collapsed": false
   },
   "outputs": [
    {
     "name": "stdout",
     "output_type": "stream",
     "text": [
      "Completed in 6.070000\n"
     ]
    }
   ],
   "source": [
    "start_time = timeit.default_timer()\n",
    "\n",
    "for i in range(epochs):\n",
    "\n",
    "    status = 1\n",
    "    price = load_line_data()\n",
    "    time_step = 0\n",
    "    state = get_state(price, time_step)\n",
    "    terminal_step = len(price) - 1\n",
    "    \n",
    "    #while learning is still in progress\n",
    "    while(status == 1):\n",
    "        #We start in state S\n",
    "        #Run the Q function on S to get predicted reward values on all the possible actions\n",
    "        qval = model.predict(state.reshape(1,2), batch_size=1)\n",
    "\n",
    "        if (random.random() < epsilon): #maybe choose random action if not the last epoch\n",
    "            action = np.random.randint(0,3) # assume 3 different action\n",
    "        else: #choose best action from Q(s,a) values\n",
    "            action = (np.argmax(qval))\n",
    "\n",
    "        #Take action, observe new state S'\n",
    "        price.iloc[time_step, 2] = sig_to_action(action)\n",
    "        time_step += 1\n",
    "        \n",
    "        #Observe reward\n",
    "        reward = get_reward(price, time_step)\n",
    "        \n",
    "        #get new state\n",
    "        new_state = get_state(price, time_step)\n",
    "        \n",
    "        #Get max_Q(S',a)\n",
    "        newQ = model.predict(new_state.reshape(1,2), batch_size=1)\n",
    "        maxQ = np.max(newQ)\n",
    "        \n",
    "        y = np.zeros((1,3))\n",
    "        y[:] = qval[:]\n",
    "        \n",
    "        if time_step < terminal_step: #non-terminal state\n",
    "            update = (reward + (gamma * maxQ))\n",
    "        else: #terminal state\n",
    "            update = reward\n",
    "            status = 0\n",
    "            \n",
    "        y[0][action] = update #target output\n",
    "        model.fit(state.reshape(1,2), y, batch_size=1, nb_epoch=1, verbose=0)\n",
    "        \n",
    "        state = new_state\n",
    "\n",
    "    if epsilon > 0.1:\n",
    "        epsilon -= (1.0/epochs)\n",
    "\n",
    "elapsed = np.round(timeit.default_timer() - start_time, decimals=2)\n",
    "print(\"Completed in %f\" % (elapsed,))"
   ]
  },
  {
   "cell_type": "code",
   "execution_count": 125,
   "metadata": {
    "collapsed": false
   },
   "outputs": [
    {
     "data": {
      "image/png": "[encoded data removed]",
      "text/plain": [
       "<matplotlib.figure.Figure at 0x7f5a68294710>"
      ]
     },
     "metadata": {},
     "output_type": "display_data"
    }
   ],
   "source": [
    "testAlgo(price)"
   ]
  },
  {
   "cell_type": "markdown",
   "metadata": {
    "collapsed": true
   },
   "source": [
    "## Sin curve"
   ]
  },
  {
   "cell_type": "code",
   "execution_count": 141,
   "metadata": {
    "collapsed": true
   },
   "outputs": [],
   "source": [
    "def load_sin_data():\n",
    "    price = pd.DataFrame(np.sin(np.arange(500)/30.0), index=pd.date_range('2010-01-01', periods=500, freq='D'), columns=['price']) #linearly increasing prices\n",
    "    price.loc[:,'reward'] = price.diff().values * 1.0\n",
    "    price.loc[:, 'action'] = 0\n",
    "    return price"
   ]
  },
  {
   "cell_type": "code",
   "execution_count": 142,
   "metadata": {
    "collapsed": false
   },
   "outputs": [
    {
     "data": {
      "text/html": [
       "<div>\n",
       "<table border=\"1\" class=\"dataframe\">\n",
       "  <thead>\n",
       "    <tr style=\"text-align: right;\">\n",
       "      <th></th>\n",
       "      <th>price</th>\n",
       "      <th>reward</th>\n",
       "      <th>action</th>\n",
       "    </tr>\n",
       "  </thead>\n",
       "  <tbody>\n",
       "    <tr>\n",
       "      <th>2011-05-11</th>\n",
       "      <td>-0.711785</td>\n",
       "      <td>-0.023804</td>\n",
       "      <td>0</td>\n",
       "    </tr>\n",
       "    <tr>\n",
       "      <th>2011-05-12</th>\n",
       "      <td>-0.734799</td>\n",
       "      <td>-0.023014</td>\n",
       "      <td>0</td>\n",
       "    </tr>\n",
       "    <tr>\n",
       "      <th>2011-05-13</th>\n",
       "      <td>-0.756996</td>\n",
       "      <td>-0.022197</td>\n",
       "      <td>0</td>\n",
       "    </tr>\n",
       "    <tr>\n",
       "      <th>2011-05-14</th>\n",
       "      <td>-0.778352</td>\n",
       "      <td>-0.021356</td>\n",
       "      <td>0</td>\n",
       "    </tr>\n",
       "    <tr>\n",
       "      <th>2011-05-15</th>\n",
       "      <td>-0.798843</td>\n",
       "      <td>-0.020491</td>\n",
       "      <td>0</td>\n",
       "    </tr>\n",
       "  </tbody>\n",
       "</table>\n",
       "</div>"
      ],
      "text/plain": [
       "               price    reward  action\n",
       "2011-05-11 -0.711785 -0.023804       0\n",
       "2011-05-12 -0.734799 -0.023014       0\n",
       "2011-05-13 -0.756996 -0.022197       0\n",
       "2011-05-14 -0.778352 -0.021356       0\n",
       "2011-05-15 -0.798843 -0.020491       0"
      ]
     },
     "execution_count": 142,
     "metadata": {},
     "output_type": "execute_result"
    }
   ],
   "source": [
    "price = load_sin_data()\n",
    "time_step = 0\n",
    "state = get_state(price, time_step)\n",
    "price.tail()"
   ]
  },
  {
   "cell_type": "code",
   "execution_count": 143,
   "metadata": {
    "collapsed": false
   },
   "outputs": [
    {
     "data": {
      "text/plain": [
       "<matplotlib.axes._subplots.AxesSubplot at 0x7f5a6044b350>"
      ]
     },
     "execution_count": 143,
     "metadata": {},
     "output_type": "execute_result"
    },
    {
     "data": {
      "image/png": "[encoded data removed]",
      "text/plain": [
       "<matplotlib.figure.Figure at 0x7f5a60615050>"
      ]
     },
     "metadata": {},
     "output_type": "display_data"
    }
   ],
   "source": [
    "price.price.plot(secondary_y=True)\n",
    "price.reward.plot()"
   ]
  },
  {
   "cell_type": "markdown",
   "metadata": {},
   "source": [
    "### Training!"
   ]
  },
  {
   "cell_type": "code",
   "execution_count": 144,
   "metadata": {
    "collapsed": true
   },
   "outputs": [],
   "source": [
    "model = Sequential()\n",
    "model.add(Dense(4, init='lecun_uniform', input_shape=(2,)))\n",
    "model.add(Activation('relu'))\n",
    "#model.add(Dropout(0.2)) I'm not using dropout in this example\n",
    "\n",
    "model.add(Dense(150, init='lecun_uniform'))\n",
    "model.add(Activation('relu'))\n",
    "#model.add(Dropout(0.2))\n",
    "\n",
    "model.add(Dense(3, init='lecun_uniform'))\n",
    "model.add(Activation('linear')) #linear output so we can have range of real-valued outputs\n",
    "\n",
    "rms = RMSprop()\n",
    "model.compile(loss='mse', optimizer=rms)"
   ]
  },
  {
   "cell_type": "code",
   "execution_count": 145,
   "metadata": {
    "collapsed": true
   },
   "outputs": [],
   "source": [
    "epochs = 100\n",
    "gamma = 0.9 #a high gamma makes a long term reward more valuable\n",
    "epsilon = 1."
   ]
  },
  {
   "cell_type": "code",
   "execution_count": 146,
   "metadata": {
    "collapsed": false
   },
   "outputs": [
    {
     "name": "stdout",
     "output_type": "stream",
     "text": [
      "Completed in 140.640000\n"
     ]
    }
   ],
   "source": [
    "start_time = timeit.default_timer()\n",
    "\n",
    "for i in range(epochs):\n",
    "\n",
    "    status = 1\n",
    "    price = load_sin_data()\n",
    "    time_step = 0\n",
    "    state = get_state(price, time_step)\n",
    "    terminal_step = len(price) - 1\n",
    "    \n",
    "    #while learning is still in progress\n",
    "    while(status == 1):\n",
    "        #We start in state S\n",
    "        #Run the Q function on S to get predicted reward values on all the possible actions\n",
    "        qval = model.predict(state.reshape(1,2), batch_size=1)\n",
    "\n",
    "        if (random.random() < epsilon): #maybe choose random action if not the last epoch\n",
    "            action = np.random.randint(0,3) # assume 3 different action\n",
    "        else: #choose best action from Q(s,a) values\n",
    "            action = (np.argmax(qval))\n",
    "\n",
    "        #Take action, observe new state S'\n",
    "        price.iloc[time_step, 2] = sig_to_action(action)\n",
    "        time_step += 1\n",
    "        \n",
    "        #Observe reward\n",
    "        reward = get_reward(price, time_step)\n",
    "        \n",
    "        #get new state\n",
    "        new_state = get_state(price, time_step)\n",
    "        \n",
    "        #Get max_Q(S',a)\n",
    "        newQ = model.predict(new_state.reshape(1,2), batch_size=1)\n",
    "        maxQ = np.max(newQ)\n",
    "        \n",
    "        y = np.zeros((1,3))\n",
    "        y[:] = qval[:]\n",
    "        \n",
    "        if time_step < terminal_step: #non-terminal state\n",
    "            update = (reward + (gamma * maxQ))\n",
    "        else: #terminal state\n",
    "            update = reward\n",
    "            status = 0\n",
    "            \n",
    "        y[0][action] = update #target output\n",
    "        model.fit(state.reshape(1,2), y, batch_size=1, nb_epoch=1, verbose=0)\n",
    "        \n",
    "        state = new_state\n",
    "\n",
    "    if epsilon > 0.1:\n",
    "        epsilon -= (1.0/epochs)\n",
    "\n",
    "elapsed = np.round(timeit.default_timer() - start_time, decimals=2)\n",
    "print(\"Completed in %f\" % (elapsed,))"
   ]
  },
  {
   "cell_type": "code",
   "execution_count": 98,
   "metadata": {
    "collapsed": false
   },
   "outputs": [
    {
     "data": {
      "text/plain": [
       "array([-0.95892,  0.00892])"
      ]
     },
     "execution_count": 98,
     "metadata": {},
     "output_type": "execute_result"
    }
   ],
   "source": [
    "state = get_state(price, 150)\n",
    "state"
   ]
  },
  {
   "cell_type": "code",
   "execution_count": 115,
   "metadata": {
    "collapsed": false
   },
   "outputs": [
    {
     "data": {
      "text/plain": [
       "array([[  99.88757,  224.87775,  332.05798]], dtype=float32)"
      ]
     },
     "execution_count": 115,
     "metadata": {},
     "output_type": "execute_result"
    }
   ],
   "source": [
    "qval = model.predict(state.reshape(1,2), batch_size=1)\n",
    "qval"
   ]
  },
  {
   "cell_type": "code",
   "execution_count": 107,
   "metadata": {
    "collapsed": false
   },
   "outputs": [],
   "source": [
    "action = np.argmax(qval)"
   ]
  },
  {
   "cell_type": "code",
   "execution_count": 108,
   "metadata": {
    "collapsed": false
   },
   "outputs": [
    {
     "data": {
      "text/plain": [
       "-10000"
      ]
     },
     "execution_count": 108,
     "metadata": {},
     "output_type": "execute_result"
    }
   ],
   "source": [
    "sig_to_action(action)"
   ]
  },
  {
   "cell_type": "code",
   "execution_count": 129,
   "metadata": {
    "collapsed": true
   },
   "outputs": [],
   "source": [
    "def testAlgo(price):\n",
    "    status = 1\n",
    "    time_step = 0\n",
    "    terminal_step = len(price) - 1\n",
    "    \n",
    "    #while game still in progress\n",
    "    while(status == 1):\n",
    "        state = get_state(price, time_step)\n",
    "        qval = model.predict(state.reshape(1,2), batch_size=1)\n",
    "        action = (np.argmax(qval)) #take action with highest Q-value\n",
    "\n",
    "        price.iloc[time_step, 2] = sig_to_action(action)\n",
    "        time_step += 1\n",
    "\n",
    "        if time_step > terminal_step:\n",
    "            status = 0 \n",
    "    \n",
    "    long_sig = price[price.action > 0]\n",
    "    short_sig = price[price.action < 0]\n",
    "    fig, ax1 = plt.subplots()\n",
    "    ax1.plot(price.index, price.price, 'b-')\n",
    "    ax1.plot(long_sig.index, long_sig.price, 'g^')\n",
    "    ax1.plot(short_sig.index, short_sig.price, 'rv')\n",
    "    fig.autofmt_xdate()"
   ]
  },
  {
   "cell_type": "code",
   "execution_count": 147,
   "metadata": {
    "collapsed": false
   },
   "outputs": [
    {
     "data": {
      "image/png": "[encoded data removed]",
      "text/plain": [
       "<matplotlib.figure.Figure at 0x7f5a6020a650>"
      ]
     },
     "metadata": {},
     "output_type": "display_data"
    }
   ],
   "source": [
    "testAlgo(price)"
   ]
  },
  {
   "cell_type": "code",
   "execution_count": null,
   "metadata": {
    "collapsed": true
   },
   "outputs": [],
   "source": []
  }
 ],
 "metadata": {
  "anaconda-cloud": {},
  "kernelspec": {
   "display_name": "Python [conda root]",
   "language": "python",
   "name": "conda-root-py"
  },
  "language_info": {
   "codemirror_mode": {
    "name": "ipython",
    "version": 2
   },
   "file_extension": ".py",
   "mimetype": "text/x-python",
   "name": "python",
   "nbconvert_exporter": "python",
   "pygments_lexer": "ipython2",
   "version": "2.7.12"
  }
 },
 "nbformat": 4,
 "nbformat_minor": 1
}
