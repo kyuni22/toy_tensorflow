{
 "cells": [
  {
   "cell_type": "code",
   "execution_count": 1,
   "metadata": {
    "collapsed": true
   },
   "outputs": [],
   "source": [
    "%matplotlib inline"
   ]
  },
  {
   "cell_type": "code",
   "execution_count": 2,
   "metadata": {
    "collapsed": true
   },
   "outputs": [],
   "source": [
    "import numpy as np\n",
    "np.random.seed(1335)  # for reproducibility\n",
    "np.set_printoptions(precision=5, suppress=True, linewidth=150)"
   ]
  },
  {
   "cell_type": "code",
   "execution_count": 5,
   "metadata": {
    "collapsed": true
   },
   "outputs": [],
   "source": [
    "import pandas as pd\n",
    "from matplotlib import pyplot as plt\n",
    "import pandas_datareader.data as web\n",
    "import time, datetime as dt"
   ]
  },
  {
   "cell_type": "markdown",
   "metadata": {},
   "source": [
    "## Get data"
   ]
  },
  {
   "cell_type": "code",
   "execution_count": 22,
   "metadata": {
    "collapsed": false
   },
   "outputs": [],
   "source": [
    "tickers = 'SPY'\n",
    "start_date = dt.datetime(2004,12,1)\n",
    "end_date = dt.datetime(2016,11,11)"
   ]
  },
  {
   "cell_type": "code",
   "execution_count": 23,
   "metadata": {
    "collapsed": false
   },
   "outputs": [],
   "source": [
    "data = web.DataReader(tickers, 'yahoo', start_date, end_date)"
   ]
  },
  {
   "cell_type": "code",
   "execution_count": 69,
   "metadata": {
    "collapsed": true
   },
   "outputs": [],
   "source": [
    "def load_data(data):\n",
    "    price = data['Adj Close'].to_frame()\n",
    "    price.columns = ['price']\n",
    "    price.loc[:,'daily_ret'] = price.price.pct_change(1)\n",
    "    price.loc[:,'monthly_ret'] = price.price.pct_change(22)\n",
    "    price.loc[:,'22d_std'] = price.daily_ret.rolling(22).std()\n",
    "    price.loc[:, 'action'] = 0\n",
    "    return price"
   ]
  },
  {
   "cell_type": "code",
   "execution_count": 70,
   "metadata": {
    "collapsed": true
   },
   "outputs": [],
   "source": [
    "def get_state(xdata, time_step):\n",
    "    return xdata.iloc[time_step,1:4].fillna(0).values"
   ]
  },
  {
   "cell_type": "code",
   "execution_count": 88,
   "metadata": {
    "collapsed": true
   },
   "outputs": [],
   "source": [
    "def sig_to_action(action):\n",
    "    if action == 0:\n",
    "        return 100000\n",
    "    elif action == 1:\n",
    "        return 0\n",
    "    elif action == 2:\n",
    "        return -100000"
   ]
  },
  {
   "cell_type": "code",
   "execution_count": 83,
   "metadata": {
    "collapsed": true
   },
   "outputs": [],
   "source": [
    "def get_reward(xdata, time_step):\n",
    "    reward = xdata.iloc[time_step-1, 4] * xdata.iloc[time_step, 1]\n",
    "    return reward"
   ]
  },
  {
   "cell_type": "markdown",
   "metadata": {},
   "source": [
    "### Run game"
   ]
  },
  {
   "cell_type": "code",
   "execution_count": 104,
   "metadata": {
    "collapsed": false
   },
   "outputs": [
    {
     "data": {
      "text/html": [
       "<div>\n",
       "<table border=\"1\" class=\"dataframe\">\n",
       "  <thead>\n",
       "    <tr style=\"text-align: right;\">\n",
       "      <th></th>\n",
       "      <th>price</th>\n",
       "      <th>daily_ret</th>\n",
       "      <th>monthly_ret</th>\n",
       "      <th>22d_std</th>\n",
       "      <th>action</th>\n",
       "    </tr>\n",
       "    <tr>\n",
       "      <th>Date</th>\n",
       "      <th></th>\n",
       "      <th></th>\n",
       "      <th></th>\n",
       "      <th></th>\n",
       "      <th></th>\n",
       "    </tr>\n",
       "  </thead>\n",
       "  <tbody>\n",
       "    <tr>\n",
       "      <th>2016-11-07</th>\n",
       "      <td>213.149994</td>\n",
       "      <td>0.022057</td>\n",
       "      <td>-0.012188</td>\n",
       "      <td>0.006595</td>\n",
       "      <td>0</td>\n",
       "    </tr>\n",
       "    <tr>\n",
       "      <th>2016-11-08</th>\n",
       "      <td>214.110001</td>\n",
       "      <td>0.004504</td>\n",
       "      <td>-0.004325</td>\n",
       "      <td>0.006646</td>\n",
       "      <td>0</td>\n",
       "    </tr>\n",
       "    <tr>\n",
       "      <th>2016-11-09</th>\n",
       "      <td>216.380005</td>\n",
       "      <td>0.010602</td>\n",
       "      <td>0.001018</td>\n",
       "      <td>0.006947</td>\n",
       "      <td>0</td>\n",
       "    </tr>\n",
       "    <tr>\n",
       "      <th>2016-11-10</th>\n",
       "      <td>216.919998</td>\n",
       "      <td>0.002496</td>\n",
       "      <td>0.016352</td>\n",
       "      <td>0.006354</td>\n",
       "      <td>0</td>\n",
       "    </tr>\n",
       "    <tr>\n",
       "      <th>2016-11-11</th>\n",
       "      <td>216.419998</td>\n",
       "      <td>-0.002305</td>\n",
       "      <td>0.012681</td>\n",
       "      <td>0.006385</td>\n",
       "      <td>0</td>\n",
       "    </tr>\n",
       "  </tbody>\n",
       "</table>\n",
       "</div>"
      ],
      "text/plain": [
       "                 price  daily_ret  monthly_ret   22d_std  action\n",
       "Date                                                            \n",
       "2016-11-07  213.149994   0.022057    -0.012188  0.006595       0\n",
       "2016-11-08  214.110001   0.004504    -0.004325  0.006646       0\n",
       "2016-11-09  216.380005   0.010602     0.001018  0.006947       0\n",
       "2016-11-10  216.919998   0.002496     0.016352  0.006354       0\n",
       "2016-11-11  216.419998  -0.002305     0.012681  0.006385       0"
      ]
     },
     "execution_count": 104,
     "metadata": {},
     "output_type": "execute_result"
    }
   ],
   "source": [
    "price = load_data(data)\n",
    "time_step = 50\n",
    "state = get_state(price, time_step)\n",
    "price.tail()"
   ]
  },
  {
   "cell_type": "code",
   "execution_count": 105,
   "metadata": {
    "collapsed": false
   },
   "outputs": [
    {
     "data": {
      "text/plain": [
       "array([ 0.0086 ,  0.02192,  0.00598])"
      ]
     },
     "execution_count": 105,
     "metadata": {},
     "output_type": "execute_result"
    }
   ],
   "source": [
    "get_state(price, time_step)"
   ]
  },
  {
   "cell_type": "code",
   "execution_count": 106,
   "metadata": {
    "collapsed": false
   },
   "outputs": [],
   "source": [
    "price.iloc[time_step, 4] = sig_to_action(0)\n",
    "time_step += 1"
   ]
  },
  {
   "cell_type": "code",
   "execution_count": 107,
   "metadata": {
    "collapsed": false
   },
   "outputs": [
    {
     "data": {
      "text/plain": [
       "-74.519056720456774"
      ]
     },
     "execution_count": 107,
     "metadata": {},
     "output_type": "execute_result"
    }
   ],
   "source": [
    "get_reward(price, time_step)"
   ]
  },
  {
   "cell_type": "code",
   "execution_count": 108,
   "metadata": {
    "collapsed": false
   },
   "outputs": [],
   "source": [
    "price.iloc[time_step, 4] = sig_to_action(2)\n",
    "time_step += 1"
   ]
  },
  {
   "cell_type": "code",
   "execution_count": 109,
   "metadata": {
    "collapsed": false
   },
   "outputs": [
    {
     "data": {
      "text/plain": [
       "-372.88470988179336"
      ]
     },
     "execution_count": 109,
     "metadata": {},
     "output_type": "execute_result"
    }
   ],
   "source": [
    "get_reward(price, time_step)"
   ]
  },
  {
   "cell_type": "code",
   "execution_count": 110,
   "metadata": {
    "collapsed": true
   },
   "outputs": [],
   "source": [
    "long_sig = price[price.action > 0]\n",
    "short_sig = price[price.action < 0]"
   ]
  },
  {
   "cell_type": "code",
   "execution_count": 111,
   "metadata": {
    "collapsed": false
   },
   "outputs": [
    {
     "data": {
      "image/png": "[encoded data removed]",
      "text/plain": [
       "<matplotlib.figure.Figure at 0xa86afb0>"
      ]
     },
     "metadata": {},
     "output_type": "display_data"
    }
   ],
   "source": [
    "fig, ax1 = plt.subplots()\n",
    "ax1.plot(price.index, price.price, 'b-')\n",
    "ax1.plot(long_sig.index, long_sig.price, 'g^')\n",
    "ax1.plot(short_sig.index, short_sig.price, 'rv')\n",
    "fig.autofmt_xdate()"
   ]
  },
  {
   "cell_type": "markdown",
   "metadata": {},
   "source": [
    "### Setting NN"
   ]
  },
  {
   "cell_type": "code",
   "execution_count": 116,
   "metadata": {
    "collapsed": false
   },
   "outputs": [],
   "source": [
    "from keras.models import Sequential\n",
    "from keras.layers.core import Dense, Dropout, Activation\n",
    "from keras.optimizers import RMSprop\n",
    "\n",
    "model = Sequential()\n",
    "model.add(Dense(150, init='lecun_uniform', input_shape=(3,)))\n",
    "model.add(Activation('relu'))\n",
    "#model.add(Dropout(0.2)) I'm not using dropout in this example\n",
    "\n",
    "model.add(Dense(150, init='lecun_uniform'))\n",
    "model.add(Activation('relu'))\n",
    "#model.add(Dropout(0.2))\n",
    "\n",
    "model.add(Dense(3, init='lecun_uniform'))\n",
    "model.add(Activation('linear')) #linear output so we can have range of real-valued outputs\n",
    "\n",
    "rms = RMSprop()\n",
    "model.compile(loss='mse', optimizer=rms)"
   ]
  },
  {
   "cell_type": "code",
   "execution_count": 124,
   "metadata": {
    "collapsed": true
   },
   "outputs": [],
   "source": [
    "def testAlgo(price, epochs):\n",
    "    status = 1\n",
    "    time_step = 0\n",
    "    terminal_step = len(price) - 1\n",
    "    \n",
    "    #while game still in progress\n",
    "    while(status == 1):\n",
    "        state = get_state(price, time_step)\n",
    "        qval = model.predict(state.reshape(1,2), batch_size=1)\n",
    "        action = (np.argmax(qval)) #take action with highest Q-value\n",
    "\n",
    "        price.iloc[time_step, 2] = sig_to_action(action)\n",
    "        time_step += 1\n",
    "\n",
    "        if time_step > terminal_step:\n",
    "            status = 0        \n",
    "    \n",
    "    long_sig = price[price.action > 0]\n",
    "    short_sig = price[price.action < 0]\n",
    "    fig, ax1 = plt.subplots()\n",
    "    ax1.plot(price.index, price.price, 'b-')\n",
    "    ax1.plot(long_sig.index, long_sig.price, 'g^')\n",
    "    ax1.plot(short_sig.index, short_sig.price, 'rv')\n",
    "    fig.autofmt_xdate()\n",
    "    ax1.set_title(\"Test Algo after {0} epochs\".format(epochs))"
   ]
  },
  {
   "cell_type": "markdown",
   "metadata": {},
   "source": [
    "### Test Training"
   ]
  },
  {
   "cell_type": "code",
   "execution_count": 18,
   "metadata": {
    "collapsed": true
   },
   "outputs": [],
   "source": [
    "import random, timeit"
   ]
  },
  {
   "cell_type": "code",
   "execution_count": 221,
   "metadata": {
    "collapsed": true
   },
   "outputs": [],
   "source": [
    "gamma = 0.9 #a high gamma makes a long term reward more valuable\n",
    "epsilon = 1.0"
   ]
  },
  {
   "cell_type": "code",
   "execution_count": 222,
   "metadata": {
    "collapsed": false
   },
   "outputs": [
    {
     "name": "stdout",
     "output_type": "stream",
     "text": [
      "Epoch 1/1\n",
      "1/1 [==============================] - 0s - loss: 3220.8337\n"
     ]
    }
   ],
   "source": [
    "price = load_data(data)\n",
    "time_step = 22\n",
    "terminal_step = len(price) - 1\n",
    "state = get_state(price, time_step)\n",
    "\n",
    "qval = model.predict(state.reshape(1,3), batch_size=1)\n",
    "\n",
    "if (random.random() < epsilon): #choose random action\n",
    "    action = np.random.randint(0,3) # 3 different action\n",
    "else: #choose best action from Q(s,a) values\n",
    "    action = (np.argmax(qval))\n",
    "    \n",
    "price.iloc[time_step, 4] = sig_to_action(2)\n",
    "time_step += 1\n",
    "\n",
    "reward = get_reward(price, time_step)\n",
    "\n",
    "new_state = get_state(price, time_step)\n",
    "\n",
    "newQ = model.predict(new_state.reshape(1,3), batch_size=1)\n",
    "maxQ = np.max(newQ)\n",
    "\n",
    "y = np.zeros((1,3))\n",
    "y[:] = qval[:]\n",
    "\n",
    "if time_step < terminal_step: #non-terminal state\n",
    "    update = (reward + (gamma * maxQ))\n",
    "else: #terminal state\n",
    "    update = reward\n",
    "    status = 0\n",
    "\n",
    "y[0][action] = update\n",
    "model.fit(state.reshape(1,3), y, batch_size=1, nb_epoch=1, verbose=1)\n",
    "\n",
    "state = new_state"
   ]
  },
  {
   "cell_type": "markdown",
   "metadata": {},
   "source": [
    "### Training!"
   ]
  },
  {
   "cell_type": "code",
   "execution_count": 145,
   "metadata": {
    "collapsed": true
   },
   "outputs": [],
   "source": [
    "model.compile(loss='mse', optimizer=rms)#reset weights of neural network\n",
    "gamma = 0.975\n",
    "epsilon = 1.\n",
    "batchSize = 40\n",
    "buffer = 80\n",
    "replay = [] #stores tuples of (S, A, R, S')"
   ]
  },
  {
   "cell_type": "code",
   "execution_count": 146,
   "metadata": {
    "collapsed": false
   },
   "outputs": [
    {
     "name": "stdout",
     "output_type": "stream",
     "text": [
      "Completed in 140.640000\n"
     ]
    }
   ],
   "source": [
    "start_time = timeit.default_timer()\n",
    "\n",
    "price = load_data(data)\n",
    "time_step = 22\n",
    "terminal_step = len(price) - 1\n",
    "state = get_state(price, time_step)\n",
    "\n",
    "h = 0\n",
    "status = 1\n",
    "#while game still in progress\n",
    "while(status == 1):\n",
    "    #We are in state S\n",
    "    #Let's run our Q function on S to get Q values for all possible actions\n",
    "    qval = model.predict(state.reshape(1,3), batch_size=1)\n",
    "    if (random.random() < epsilon): #choose random action\n",
    "        action = np.random.randint(0,3)\n",
    "    else: #choose best action from Q(s,a) values\n",
    "        action = (np.argmax(qval))\n",
    "\n",
    "    #Take action, observe new state S'\n",
    "    price.iloc[time_step, 4] = sig_to_action(action)\n",
    "    time_step += 1\n",
    "\n",
    "    #Observe reward\n",
    "    reward = get_reward(price, time_step)\n",
    "    new_state = get_state(price, time_step)\n",
    "\n",
    "    #Experience replay storage\n",
    "    if (len(replay) < buffer): #if buffer not filled, add to it\n",
    "        replay.append((state, action, reward, new_state))\n",
    "    else: #if buffer full, overwrite old values\n",
    "        if (h < (buffer-1)):\n",
    "            h += 1\n",
    "        else:\n",
    "            h = 0\n",
    "        replay[h] = (state, action, reward, new_state)\n",
    "\n",
    "        #randomly sample our experience replay memory\n",
    "        minibatch = random.sample(replay, batchSize)\n",
    "        X_train = []\n",
    "        y_train = []\n",
    "        for memory in minibatch:\n",
    "            #Get max_Q(S',a)\n",
    "            old_state, action, reward, new_state = memory\n",
    "            old_qval = model.predict(old_state.reshape(1,3), batch_size=1)\n",
    "            newQ = model.predict(new_state.reshape(1,3), batch_size=1)\n",
    "            maxQ = np.max(newQ)\n",
    "            y = np.zeros((1,3))\n",
    "            y[:] = old_qval[:]\n",
    "            if time_step < terminal_step: #non-terminal state\n",
    "                update = (reward + (gamma * maxQ))\n",
    "            else: #terminal state\n",
    "                update = reward\n",
    "            \n",
    "            y[0][action] = update\n",
    "            X_train.append(old_state.reshape(3,))\n",
    "            y_train.append(y.reshape(3,))\n",
    "\n",
    "        X_train = np.array(X_train)\n",
    "        y_train = np.array(y_train)\n",
    "\n",
    "        model.fit(X_train, y_train, batch_size=batchSize, nb_epoch=1, verbose=1)\n",
    "        state = new_state\n",
    "\n",
    "    if epsilon > 0.1: #decrement epsilon over time\n",
    "        epsilon -= (1./(time_step/batchSize))\n",
    "    \n",
    "    if time_step > terminal_step: #terminal state\n",
    "        status = 0\n",
    "\n",
    "elapsed = np.round(timeit.default_timer() - start_time, decimals=2)\n",
    "print(\"Completed in %f\" % (elapsed,))"
   ]
  },
  {
   "cell_type": "code",
   "execution_count": null,
   "metadata": {
    "collapsed": true
   },
   "outputs": [],
   "source": []
  }
 ],
 "metadata": {
  "anaconda-cloud": {},
  "kernelspec": {
   "display_name": "Python [conda root]",
   "language": "python",
   "name": "conda-root-py"
  },
  "language_info": {
   "codemirror_mode": {
    "name": "ipython",
    "version": 2
   },
   "file_extension": ".py",
   "mimetype": "text/x-python",
   "name": "python",
   "nbconvert_exporter": "python",
   "pygments_lexer": "ipython2",
   "version": "2.7.12"
  }
 },
 "nbformat": 4,
 "nbformat_minor": 1
}
